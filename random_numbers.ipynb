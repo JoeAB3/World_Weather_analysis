{
 "cells": [
  {
   "cell_type": "code",
   "execution_count": 1,
   "id": "09c5f3fd",
   "metadata": {},
   "outputs": [],
   "source": [
    "# Import the random module.\n",
    "import random"
   ]
  },
  {
   "cell_type": "code",
   "execution_count": 2,
   "id": "c73889d2",
   "metadata": {},
   "outputs": [
    {
     "data": {
      "text/plain": [
       "23"
      ]
     },
     "execution_count": 2,
     "metadata": {},
     "output_type": "execute_result"
    }
   ],
   "source": [
    "# whole number, not step\n",
    "random.randint(-90, 90)"
   ]
  },
  {
   "cell_type": "code",
   "execution_count": 3,
   "id": "9aac7931",
   "metadata": {},
   "outputs": [
    {
     "data": {
      "text/plain": [
       "0.9021938397826866"
      ]
     },
     "execution_count": 3,
     "metadata": {},
     "output_type": "execute_result"
    }
   ],
   "source": [
    "# creating a decimal that can be added to the whole number\n",
    "extra = random.random()\n",
    "extra"
   ]
  },
  {
   "cell_type": "code",
   "execution_count": 4,
   "id": "97b9e9bd",
   "metadata": {},
   "outputs": [
    {
     "data": {
      "text/plain": [
       "2.9021938397826865"
      ]
     },
     "execution_count": 4,
     "metadata": {},
     "output_type": "execute_result"
    }
   ],
   "source": [
    "# tricksy way of adding a whole number and decimal --> which can be flipped to lat-longs\n",
    "random_number = random.randint(-90, 89) + extra\n",
    "random_number"
   ]
  },
  {
   "cell_type": "code",
   "execution_count": 5,
   "id": "81bd7abb",
   "metadata": {},
   "outputs": [
    {
     "data": {
      "text/plain": [
       "[45.923364981789,\n",
       " 88.02595922759758,\n",
       " -47.70935665690704,\n",
       " 68.51400784397498,\n",
       " 31.63487858525654,\n",
       " -72.16426631012597,\n",
       " -11.970474736690615,\n",
       " -39.541137100920096,\n",
       " -23.8685009504843,\n",
       " 13.566192750421504]"
      ]
     },
     "execution_count": 5,
     "metadata": {},
     "output_type": "execute_result"
    }
   ],
   "source": [
    "# generate 10 randome numbers with whole numbers and add into lat list (datafram?)\n",
    "x = 1\n",
    "latitudes = []\n",
    "while x < 11:\n",
    "    random_lat = random.randint(-90, 89) + random.random()\n",
    "    latitudes.append(random_lat)\n",
    "    x += 1\n",
    "latitudes"
   ]
  },
  {
   "cell_type": "code",
   "execution_count": 6,
   "id": "9449094a",
   "metadata": {},
   "outputs": [
    {
     "data": {
      "text/plain": [
       "-48"
      ]
     },
     "execution_count": 6,
     "metadata": {},
     "output_type": "execute_result"
    }
   ],
   "source": [
    "# whole numbers --> kind of a useless example without more than one number\n",
    "random.randrange(-90,90,step=1)"
   ]
  },
  {
   "cell_type": "code",
   "execution_count": 7,
   "id": "9ff15dcc",
   "metadata": {},
   "outputs": [
    {
     "data": {
      "text/plain": [
       "-81"
      ]
     },
     "execution_count": 7,
     "metadata": {},
     "output_type": "execute_result"
    }
   ],
   "source": [
    "# whole numbers \n",
    "random.randrange(-90,90,step=3)"
   ]
  },
  {
   "cell_type": "code",
   "execution_count": 8,
   "id": "7d119490",
   "metadata": {},
   "outputs": [
    {
     "data": {
      "text/plain": [
       "54"
      ]
     },
     "execution_count": 8,
     "metadata": {},
     "output_type": "execute_result"
    }
   ],
   "source": [
    "\n",
    "random.randrange(-90,90)"
   ]
  },
  {
   "cell_type": "code",
   "execution_count": 9,
   "id": "774f558c",
   "metadata": {},
   "outputs": [
    {
     "data": {
      "text/plain": [
       "[-74.01418145289487,\n",
       " 0.5292106953973597,\n",
       " -19.587974091690608,\n",
       " 85.56206839263011,\n",
       " -79.06112940937048,\n",
       " 10.862495466789191,\n",
       " -89.06326224238518,\n",
       " -64.20167012091788,\n",
       " 50.16611441665838,\n",
       " 70.13883653723671]"
      ]
     },
     "execution_count": 9,
     "metadata": {},
     "output_type": "execute_result"
    }
   ],
   "source": [
    "# generate 10 randome numbers with whole numbers and add into lat list (datafram?)\n",
    "# I expected to see rando number plus 5, plus 5, plus 5....\n",
    "x = 1\n",
    "practice = []\n",
    "while x < 11:\n",
    "    random_lat = random.randrange(-90, 90, step=5) + random.random()\n",
    "    practice.append(random_lat)\n",
    "    x += 1\n",
    "practice"
   ]
  },
  {
   "cell_type": "code",
   "execution_count": 10,
   "id": "29ac5e51",
   "metadata": {},
   "outputs": [
    {
     "data": {
      "text/plain": [
       "-56.1929038181716"
      ]
     },
     "execution_count": 10,
     "metadata": {},
     "output_type": "execute_result"
    }
   ],
   "source": [
    "# Does not return a whole number\n",
    "random.uniform(-90,90)"
   ]
  },
  {
   "cell_type": "code",
   "execution_count": 11,
   "id": "914e7bfd",
   "metadata": {},
   "outputs": [],
   "source": [
    "# Import the NumPy module.\n",
    "import numpy as np"
   ]
  },
  {
   "cell_type": "code",
   "execution_count": 12,
   "id": "be0b2451",
   "metadata": {},
   "outputs": [
    {
     "data": {
      "text/plain": [
       "-2.8368742091376333"
      ]
     },
     "execution_count": 12,
     "metadata": {},
     "output_type": "execute_result"
    }
   ],
   "source": [
    "# Numpy's version of a decimal \n",
    "np.random.uniform(-90.000,90.000)"
   ]
  },
  {
   "cell_type": "code",
   "execution_count": 13,
   "id": "31dfc108",
   "metadata": {},
   "outputs": [
    {
     "data": {
      "text/plain": [
       "23.53286347048001"
      ]
     },
     "execution_count": 13,
     "metadata": {},
     "output_type": "execute_result"
    }
   ],
   "source": [
    "# probably could return a whole number, does a whole number have an equal random chance?\n",
    "np.random.uniform(low=-90, high=90)"
   ]
  },
  {
   "cell_type": "code",
   "execution_count": 14,
   "id": "22e9b799",
   "metadata": {},
   "outputs": [
    {
     "data": {
      "text/plain": [
       "array([-59.21707052, -32.13451304,  15.35796239, -70.48874752,\n",
       "        39.02771289,   5.62242718, -22.80177547, -22.34387303,\n",
       "        69.43771836,  81.75498867,  64.46118528,  25.61455338,\n",
       "        14.36613048,  49.08367545,  39.17771524,   5.82417567,\n",
       "       -46.85834757, -45.55229436, -74.31620044,  37.48233812,\n",
       "       -67.1637878 ,  45.43070698,  -7.80538092,  70.13653766,\n",
       "       -63.8699138 ,  48.7649842 ,  62.15141223, -10.8041056 ,\n",
       "        63.96151281, -67.38836377,  56.44184286,  -6.86416906,\n",
       "       -66.61774817,  -0.67678946, -75.24281797,  62.11111288,\n",
       "       -74.05908219,  19.12775949, -67.82844589,  -4.27942273,\n",
       "        -9.96743849,  25.2039634 , -56.76195088, -27.5282573 ,\n",
       "         3.29943976, -44.82990479,  71.30960806,  -9.67085425,\n",
       "        39.4083124 ,   6.50584185])"
      ]
     },
     "execution_count": 14,
     "metadata": {},
     "output_type": "execute_result"
    }
   ],
   "source": [
    "# adding size creates a list\n",
    "np.random.uniform(-90.000, 90.000, size=50)"
   ]
  },
  {
   "cell_type": "code",
   "execution_count": 25,
   "id": "3e111e5a",
   "metadata": {},
   "outputs": [],
   "source": [
    "# Import timeit.\n",
    "import timeit"
   ]
  },
  {
   "cell_type": "code",
   "execution_count": 26,
   "id": "2dbc9713",
   "metadata": {},
   "outputs": [
    {
     "name": "stdout",
     "output_type": "stream",
     "text": [
      "12.9 µs ± 14.2 ns per loop (mean ± std. dev. of 7 runs, 100000 loops each)\n"
     ]
    }
   ],
   "source": [
    "# microseconds runtime <--- microseconds are faster than milliseconds\n",
    "%timeit np.random.uniform(-90.000, 90.000, size=1500)"
   ]
  },
  {
   "cell_type": "code",
   "execution_count": 17,
   "id": "32dadc4e",
   "metadata": {},
   "outputs": [
    {
     "name": "stdout",
     "output_type": "stream",
     "text": [
      "1.67 ms ± 4.2 µs per loop (mean ± std. dev. of 7 runs, 1000 loops each)\n"
     ]
    }
   ],
   "source": [
    "def latitudes(size):\n",
    "    latitudes = []\n",
    "    x = 0\n",
    "    while x < (size):\n",
    "        random_lat = random.randint(-90, 90) + random.random()\n",
    "        latitudes.append(random_lat)\n",
    "        x += 1\n",
    "    return latitudes\n",
    "# Call the function with 1500. <--- Milliseconds\n",
    "%timeit latitudes(1500)"
   ]
  },
  {
   "cell_type": "code",
   "execution_count": 28,
   "id": "78173705",
   "metadata": {},
   "outputs": [],
   "source": [
    "# Import the dependencies.\n",
    "import pandas as pd\n",
    "import matplotlib.pyplot as plt\n",
    "import numpy as np"
   ]
  },
  {
   "cell_type": "code",
   "execution_count": 23,
   "id": "fa1d6b06",
   "metadata": {},
   "outputs": [
    {
     "name": "stdout",
     "output_type": "stream",
     "text": [
      "1.66 ms ± 5.51 µs per loop (mean ± std. dev. of 7 runs, 1000 loops each)\n"
     ]
    }
   ],
   "source": [
    "# trying same code after applying %matplotlib\n",
    "def latitudes(size):\n",
    "    latitudes = []\n",
    "    x = 0\n",
    "    while x < (size):\n",
    "        random_lat = random.randint(-90, 90) + random.random()\n",
    "        latitudes.append(random_lat)\n",
    "        x += 1\n",
    "    return latitudes\n",
    "# Call the function with 1500. <--- Milliseconds\n",
    "%timeit latitudes(1500)"
   ]
  },
  {
   "cell_type": "code",
   "execution_count": 29,
   "id": "4051053b",
   "metadata": {},
   "outputs": [
    {
     "data": {
      "text/plain": [
       "<zip at 0x2d38357db48>"
      ]
     },
     "execution_count": 29,
     "metadata": {},
     "output_type": "execute_result"
    }
   ],
   "source": [
    "# Create a set of random latitude and longitude combinations.\n",
    "lats = np.random.uniform(low=-90.000, high=90.000, size=1500)\n",
    "lngs = np.random.uniform(low=-180.000, high=180.000, size=1500)\n",
    "lat_lngs = zip(lats, lngs)\n",
    "lat_lngs"
   ]
  }
 ],
 "metadata": {
  "kernelspec": {
   "display_name": "PythonData",
   "language": "python",
   "name": "pythondata"
  },
  "language_info": {
   "codemirror_mode": {
    "name": "ipython",
    "version": 3
   },
   "file_extension": ".py",
   "mimetype": "text/x-python",
   "name": "python",
   "nbconvert_exporter": "python",
   "pygments_lexer": "ipython3",
   "version": "3.7.10"
  }
 },
 "nbformat": 4,
 "nbformat_minor": 5
}
